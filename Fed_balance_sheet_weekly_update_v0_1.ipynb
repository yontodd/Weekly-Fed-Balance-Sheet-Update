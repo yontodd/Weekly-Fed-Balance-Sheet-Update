{
  "cells": [
    {
      "cell_type": "code",
      "execution_count": 13,
      "metadata": {
        "id": "TKkrLdJJ1yQE"
      },
      "outputs": [],
      "source": [
        "import pandas_datareader as pdr\n",
        "import pandas as pd\n",
        "from datetime import datetime, timedelta\n",
        "import warnings\n",
        "\n",
        "# Ignore FutureWarning messages\n",
        "warnings.simplefilter(action='ignore', category=FutureWarning)"
      ]
    },
    {
      "cell_type": "code",
      "execution_count": 14,
      "metadata": {
        "id": "3glP49A9Z2cS"
      },
      "outputs": [],
      "source": [
        "# FRED codes\n",
        "fred_codes = {\n",
        "    'Balance sheet assets (as of Wednesday)': 'WTFSRFL',\n",
        "    'Balance sheet assets (week average)':'WTFSRFA',\n",
        "    'Holdings of US Treasury securities (as of Wednesday)':'WSHOTSL',\n",
        "    'Holdings of US Treasury securities (week average)': 'WSHOTSA',\n",
        "    'Holdings of mortgage-backed securities (as of Wednesday)': 'WSHOMCB',\n",
        "    'Holdings of mortgage-backed securities (week average)': 'WMBSEC',\n",
        "    'Discount Window borrowing (as of Wednesday)': 'WLCFLPCL',\n",
        "    'Discount Window borrowing (week average)': 'WPC',\n",
        "    'BTFP borrowing (as of Wednesday)': 'H41RESPPALDKNWW',\n",
        "    'BTFP borrowing (week average)':\"H41RESPPALDKXAWNWW\"\n",
        "}"
      ]
    },
    {
      "cell_type": "markdown",
      "metadata": {
        "id": "zngij8p7Xsh6"
      },
      "source": [
        "### Code to pull data into dataframe"
      ]
    },
    {
      "cell_type": "code",
      "execution_count": 15,
      "metadata": {
        "id": "_00bzAkggfvy"
      },
      "outputs": [],
      "source": [
        "# Initialize an empty list to store DataFrames\n",
        "dfs = []"
      ]
    },
    {
      "cell_type": "code",
      "execution_count": 16,
      "metadata": {
        "id": "-ERyW1KNgbOu"
      },
      "outputs": [],
      "source": [
        "def format_value(value):\n",
        "    trillion = 1e12 / 1000000\n",
        "    billion = 1e9 / 1000000\n",
        "    million = 1e6 / 1000000\n",
        "\n",
        "    formatted_value = None\n",
        "\n",
        "    if abs(value) >= trillion:\n",
        "        formatted_value = f\"${abs(value) / trillion:.2f}T\"\n",
        "    elif billion <= abs(value) < trillion:\n",
        "        formatted_value = f\"${abs(value) / billion:.2f}B\"\n",
        "    elif million <= abs(value) < billion:\n",
        "        formatted_value = f\"${abs(value) / million:.2f}M\"\n",
        "    else:\n",
        "        formatted_value = f\"${abs(value):.2f}\"\n",
        "\n",
        "    # Add parentheses for negative values\n",
        "    if value < 0:\n",
        "        formatted_value = f\"({formatted_value})\"\n",
        "\n",
        "    return formatted_value"
      ]
    },
    {
      "cell_type": "code",
      "execution_count": 17,
      "metadata": {
        "id": "LwO_4ILngobg"
      },
      "outputs": [],
      "source": [
        "# Loop through each FRED code\n",
        "for report, code in fred_codes.items():\n",
        "    # Get today's date\n",
        "    today = datetime.now()\n",
        "\n",
        "    # Find the Wednesday 53 weeks ago\n",
        "    last_year_wednesday = today - timedelta(weeks=54)\n",
        "    while last_year_wednesday.weekday() != 2:  # 2 corresponds to Wednesday\n",
        "        last_year_wednesday += timedelta(days=1)\n",
        "\n",
        "    # Get the data for the last 52 weeks\n",
        "    data_52_weeks = pdr.get_data_fred(code, start=last_year_wednesday, end=today)\n",
        "\n",
        "    # Column name may vary, get the column dynamically\n",
        "    value_column = data_52_weeks.columns[0]\n",
        "\n",
        "    # Sort the data by date in descending order\n",
        "    data_52_weeks = data_52_weeks.sort_index(ascending=False)\n",
        "\n",
        "    # Extract most recent, previous, and prior year values\n",
        "    most_recent_data = data_52_weeks.head(1)\n",
        "    previous_data = data_52_weeks.iloc[1]\n",
        "    prior_year_data = data_52_weeks.tail(1)  # Take the last value from the last 52 weeks\n",
        "\n",
        "    # Extract values\n",
        "    most_recent_date = most_recent_data.index[0]\n",
        "    most_recent_value = most_recent_data.iloc[0][value_column]\n",
        "\n",
        "    previous_date = previous_data.name\n",
        "    previous_value = previous_data[value_column]\n",
        "\n",
        "    prior_year_date = prior_year_data.index[0]\n",
        "    prior_year_value = prior_year_data.iloc[0][value_column]\n",
        "\n",
        "    # Calculate the changes\n",
        "    week_over_week_change = most_recent_value - previous_value\n",
        "    year_over_year_change = most_recent_value - prior_year_value\n",
        "\n",
        "    # Format values using the custom function\n",
        "    most_recent_formatted = format_value(most_recent_value)\n",
        "    previous_formatted = format_value(previous_value)\n",
        "    prior_year_formatted = format_value(prior_year_value)\n",
        "    week_over_week_change_formatted = format_value(week_over_week_change)\n",
        "    year_over_year_change_formatted = format_value(year_over_year_change)\n",
        "\n",
        "    # Create a DataFrame for the current FRED code and append to the list\n",
        "    dfs.append(pd.DataFrame({'Report': [report],\n",
        "                             'Most Recent Date': [most_recent_date],\n",
        "                             'Most Recent': [most_recent_formatted],\n",
        "                             'Previous Date': [previous_date],\n",
        "                             'Previous': [previous_formatted],\n",
        "                             'Change (w/w)': [week_over_week_change_formatted],\n",
        "                             'Prior Year Date': [prior_year_date],\n",
        "                             'Prior Year': [prior_year_formatted],\n",
        "                             'Change (y/y)': [year_over_year_change_formatted]}))\n",
        "\n",
        "# Concatenate all DataFrames into one\n",
        "data = pd.concat(dfs, ignore_index=True)"
      ]
    },
    {
      "cell_type": "markdown",
      "metadata": {
        "id": "HpVRvjW_Xx67"
      },
      "source": [
        "### Data table"
      ]
    },
    {
      "cell_type": "code",
      "execution_count": 18,
      "metadata": {
        "colab": {
          "base_uri": "https://localhost:8080/",
          "height": 728
        },
        "id": "q6uBcqSGat1Q",
        "outputId": "881c7fad-1e24-4caa-8a3f-a1365bcd4031"
      },
      "outputs": [
        {
          "data": {
            "text/html": [
              "<div>\n",
              "<style scoped>\n",
              "    .dataframe tbody tr th:only-of-type {\n",
              "        vertical-align: middle;\n",
              "    }\n",
              "\n",
              "    .dataframe tbody tr th {\n",
              "        vertical-align: top;\n",
              "    }\n",
              "\n",
              "    .dataframe thead th {\n",
              "        text-align: right;\n",
              "    }\n",
              "</style>\n",
              "<table border=\"1\" class=\"dataframe\">\n",
              "  <thead>\n",
              "    <tr style=\"text-align: right;\">\n",
              "      <th></th>\n",
              "      <th>Report</th>\n",
              "      <th>Most Recent Date</th>\n",
              "      <th>Most Recent</th>\n",
              "      <th>Previous Date</th>\n",
              "      <th>Previous</th>\n",
              "      <th>Change (w/w)</th>\n",
              "      <th>Prior Year Date</th>\n",
              "      <th>Prior Year</th>\n",
              "      <th>Change (y/y)</th>\n",
              "    </tr>\n",
              "  </thead>\n",
              "  <tbody>\n",
              "    <tr>\n",
              "      <th>0</th>\n",
              "      <td>Balance sheet assets (as of Wednesday)</td>\n",
              "      <td>2024-01-17</td>\n",
              "      <td>$7.72T</td>\n",
              "      <td>2024-01-10</td>\n",
              "      <td>$7.74T</td>\n",
              "      <td>($12.91B)</td>\n",
              "      <td>2023-01-18</td>\n",
              "      <td>$8.54T</td>\n",
              "      <td>($814.97B)</td>\n",
              "    </tr>\n",
              "    <tr>\n",
              "      <th>1</th>\n",
              "      <td>Balance sheet assets (week average)</td>\n",
              "      <td>2024-01-17</td>\n",
              "      <td>$7.74T</td>\n",
              "      <td>2024-01-10</td>\n",
              "      <td>$7.73T</td>\n",
              "      <td>$2.48B</td>\n",
              "      <td>2023-01-18</td>\n",
              "      <td>$8.55T</td>\n",
              "      <td>($817.50B)</td>\n",
              "    </tr>\n",
              "    <tr>\n",
              "      <th>2</th>\n",
              "      <td>Holdings of US Treasury securities (as of Wedn...</td>\n",
              "      <td>2024-01-17</td>\n",
              "      <td>$4.72T</td>\n",
              "      <td>2024-01-10</td>\n",
              "      <td>$4.75T</td>\n",
              "      <td>($27.49B)</td>\n",
              "      <td>2023-01-18</td>\n",
              "      <td>$5.44T</td>\n",
              "      <td>($712.70B)</td>\n",
              "    </tr>\n",
              "    <tr>\n",
              "      <th>3</th>\n",
              "      <td>Holdings of US Treasury securities (week average)</td>\n",
              "      <td>2024-01-17</td>\n",
              "      <td>$4.74T</td>\n",
              "      <td>2024-01-10</td>\n",
              "      <td>$4.75T</td>\n",
              "      <td>($9.00B)</td>\n",
              "      <td>2023-01-18</td>\n",
              "      <td>$5.45T</td>\n",
              "      <td>($707.47B)</td>\n",
              "    </tr>\n",
              "    <tr>\n",
              "      <th>4</th>\n",
              "      <td>Holdings of mortgage-backed securities (as of ...</td>\n",
              "      <td>2024-01-17</td>\n",
              "      <td>$2.43T</td>\n",
              "      <td>2024-01-10</td>\n",
              "      <td>$2.43T</td>\n",
              "      <td>($63.00M)</td>\n",
              "      <td>2023-01-18</td>\n",
              "      <td>$2.64T</td>\n",
              "      <td>($208.23B)</td>\n",
              "    </tr>\n",
              "    <tr>\n",
              "      <th>5</th>\n",
              "      <td>Holdings of mortgage-backed securities (week a...</td>\n",
              "      <td>2024-01-17</td>\n",
              "      <td>$2.43T</td>\n",
              "      <td>2024-01-10</td>\n",
              "      <td>$2.43T</td>\n",
              "      <td>($18.00M)</td>\n",
              "      <td>2023-01-18</td>\n",
              "      <td>$2.64T</td>\n",
              "      <td>($209.23B)</td>\n",
              "    </tr>\n",
              "    <tr>\n",
              "      <th>6</th>\n",
              "      <td>Discount Window borrowing (as of Wednesday)</td>\n",
              "      <td>2024-01-17</td>\n",
              "      <td>$2.29B</td>\n",
              "      <td>2024-01-10</td>\n",
              "      <td>$2.11B</td>\n",
              "      <td>$189.00M</td>\n",
              "      <td>2023-01-18</td>\n",
              "      <td>$4.60B</td>\n",
              "      <td>($2.31B)</td>\n",
              "    </tr>\n",
              "    <tr>\n",
              "      <th>7</th>\n",
              "      <td>Discount Window borrowing (week average)</td>\n",
              "      <td>2024-01-17</td>\n",
              "      <td>$2.17B</td>\n",
              "      <td>2024-01-10</td>\n",
              "      <td>$2.07B</td>\n",
              "      <td>$98.00M</td>\n",
              "      <td>2023-01-18</td>\n",
              "      <td>$4.15B</td>\n",
              "      <td>($1.98B)</td>\n",
              "    </tr>\n",
              "    <tr>\n",
              "      <th>8</th>\n",
              "      <td>BTFP borrowing (as of Wednesday)</td>\n",
              "      <td>2024-01-17</td>\n",
              "      <td>$161.50B</td>\n",
              "      <td>2024-01-10</td>\n",
              "      <td>$147.18B</td>\n",
              "      <td>$14.33B</td>\n",
              "      <td>2023-01-18</td>\n",
              "      <td>$0.00</td>\n",
              "      <td>$161.50B</td>\n",
              "    </tr>\n",
              "    <tr>\n",
              "      <th>9</th>\n",
              "      <td>BTFP borrowing (week average)</td>\n",
              "      <td>2024-01-17</td>\n",
              "      <td>$154.16B</td>\n",
              "      <td>2024-01-10</td>\n",
              "      <td>$144.84B</td>\n",
              "      <td>$9.32B</td>\n",
              "      <td>2023-01-18</td>\n",
              "      <td>$0.00</td>\n",
              "      <td>$154.16B</td>\n",
              "    </tr>\n",
              "  </tbody>\n",
              "</table>\n",
              "</div>"
            ],
            "text/plain": [
              "                                              Report Most Recent Date  \\\n",
              "0             Balance sheet assets (as of Wednesday)       2024-01-17   \n",
              "1                Balance sheet assets (week average)       2024-01-17   \n",
              "2  Holdings of US Treasury securities (as of Wedn...       2024-01-17   \n",
              "3  Holdings of US Treasury securities (week average)       2024-01-17   \n",
              "4  Holdings of mortgage-backed securities (as of ...       2024-01-17   \n",
              "5  Holdings of mortgage-backed securities (week a...       2024-01-17   \n",
              "6        Discount Window borrowing (as of Wednesday)       2024-01-17   \n",
              "7           Discount Window borrowing (week average)       2024-01-17   \n",
              "8                   BTFP borrowing (as of Wednesday)       2024-01-17   \n",
              "9                      BTFP borrowing (week average)       2024-01-17   \n",
              "\n",
              "  Most Recent Previous Date  Previous Change (w/w) Prior Year Date Prior Year  \\\n",
              "0      $7.72T    2024-01-10    $7.74T    ($12.91B)      2023-01-18     $8.54T   \n",
              "1      $7.74T    2024-01-10    $7.73T       $2.48B      2023-01-18     $8.55T   \n",
              "2      $4.72T    2024-01-10    $4.75T    ($27.49B)      2023-01-18     $5.44T   \n",
              "3      $4.74T    2024-01-10    $4.75T     ($9.00B)      2023-01-18     $5.45T   \n",
              "4      $2.43T    2024-01-10    $2.43T    ($63.00M)      2023-01-18     $2.64T   \n",
              "5      $2.43T    2024-01-10    $2.43T    ($18.00M)      2023-01-18     $2.64T   \n",
              "6      $2.29B    2024-01-10    $2.11B     $189.00M      2023-01-18     $4.60B   \n",
              "7      $2.17B    2024-01-10    $2.07B      $98.00M      2023-01-18     $4.15B   \n",
              "8    $161.50B    2024-01-10  $147.18B      $14.33B      2023-01-18      $0.00   \n",
              "9    $154.16B    2024-01-10  $144.84B       $9.32B      2023-01-18      $0.00   \n",
              "\n",
              "  Change (y/y)  \n",
              "0   ($814.97B)  \n",
              "1   ($817.50B)  \n",
              "2   ($712.70B)  \n",
              "3   ($707.47B)  \n",
              "4   ($208.23B)  \n",
              "5   ($209.23B)  \n",
              "6     ($2.31B)  \n",
              "7     ($1.98B)  \n",
              "8     $161.50B  \n",
              "9     $154.16B  "
            ]
          },
          "execution_count": 18,
          "metadata": {},
          "output_type": "execute_result"
        }
      ],
      "source": [
        "data"
      ]
    },
    {
      "cell_type": "markdown",
      "metadata": {
        "id": "VZF3L-eVkRah"
      },
      "source": [
        "### Print statement code"
      ]
    },
    {
      "cell_type": "code",
      "execution_count": 19,
      "metadata": {
        "id": "Bk-RO3txfxLj"
      },
      "outputs": [],
      "source": [
        "def print_balance_sheet_report(data):\n",
        "    # Extract values for the specific report\n",
        "    balance_sheet_most_recent = data.loc[data['Report'] == 'Balance sheet assets (as of Wednesday)', 'Most Recent'].values[0]\n",
        "\n",
        "    # Extract values for Change (w/w) and Change (y/y)\n",
        "    change_wk = data.loc[data['Report'] == 'Balance sheet assets (week average)', 'Change (w/w)'].values[0]\n",
        "    change_yr = data.loc[data['Report'] == 'Balance sheet assets (week average)', 'Change (y/y)'].values[0]\n",
        "\n",
        "    # Add a plus sign for formatted values that don't start and end with parentheses\n",
        "    change_wk_formatted = \"+\" + change_wk if not (change_wk.startswith('(') and change_wk.endswith(')')) else change_wk\n",
        "    change_yr_formatted = \"+\" + change_yr if not (change_yr.startswith('(') and change_yr.endswith(')')) else change_yr\n",
        "\n",
        "    # Print statement\n",
        "    print(\"Fed reports balance sheet assets of {} on Wednesday, {} w/w and {} y/y\".format(balance_sheet_most_recent, change_wk_formatted, change_yr_formatted))"
      ]
    },
    {
      "cell_type": "code",
      "execution_count": 20,
      "metadata": {
        "id": "OVmIKoL7kXQ7"
      },
      "outputs": [],
      "source": [
        "def print_treasury_securities_report(data):\n",
        "    # Extract values for the specific report\n",
        "    treasury_most_recent = data.loc[data['Report'] == 'Holdings of US Treasury securities (week average)', 'Most Recent'].values[0]\n",
        "    treasury_change_wk = data.loc[data['Report'] == 'Holdings of US Treasury securities (week average)', 'Change (w/w)'].values[0]\n",
        "    treasury_most_recent_date = data.loc[data['Report'] == 'Holdings of US Treasury securities (week average)', 'Most Recent Date'].values[0]\n",
        "    treasury_change_yr = data.loc[data['Report'] == 'Holdings of US Treasury securities (week average)', 'Change (y/y)'].values[0]\n",
        "\n",
        "    # Add a plus sign for formatted values that don't start and end with parentheses\n",
        "    treasury_change_wk_formatted = \"+\" + treasury_change_wk if not (treasury_change_wk.startswith('(') and treasury_change_wk.endswith(')')) else treasury_change_wk\n",
        "    treasury_change_yr_formatted = \"+\" + treasury_change_yr if not (treasury_change_yr.startswith('(') and treasury_change_yr.endswith(')')) else treasury_change_yr\n",
        "\n",
        "    # Format the date in the format like 17-Jan\n",
        "    treasury_most_recent_date_formatted = pd.to_datetime(treasury_most_recent_date).strftime('%d-%b')\n",
        "\n",
        "    # Print statement\n",
        "    print(\"Holdings of US Treasury Securities were {} on {}, {} w/w and {} y/y\".format(treasury_most_recent, treasury_most_recent_date_formatted, treasury_change_wk_formatted, treasury_change_yr_formatted))\n"
      ]
    },
    {
      "cell_type": "code",
      "execution_count": 21,
      "metadata": {
        "id": "uD4XKnFqlS49"
      },
      "outputs": [],
      "source": [
        "def print_mortgage_backed_securities_report(data):\n",
        "    # Extract values for the specific report\n",
        "    mortgage_most_recent = data.loc[data['Report'] == 'Holdings of mortgage-backed securities (week average)', 'Most Recent'].values[0]\n",
        "    mortgage_change_wk = data.loc[data['Report'] == 'Holdings of mortgage-backed securities (week average)', 'Change (w/w)'].values[0]\n",
        "    mortgage_most_recent_date = data.loc[data['Report'] == 'Holdings of mortgage-backed securities (week average)', 'Most Recent Date'].values[0]\n",
        "    mortgage_change_yr = data.loc[data['Report'] == 'Holdings of mortgage-backed securities (week average)', 'Change (y/y)'].values[0]\n",
        "\n",
        "    # Add a plus sign for formatted values that don't start and end with parentheses\n",
        "    mortgage_change_wk_formatted = \"+\" + mortgage_change_wk if not (mortgage_change_wk.startswith('(') and mortgage_change_wk.endswith(')')) else mortgage_change_wk\n",
        "    mortgage_change_yr_formatted = \"+\" + mortgage_change_yr if not (mortgage_change_yr.startswith('(') and mortgage_change_yr.endswith(')')) else mortgage_change_yr\n",
        "\n",
        "    # Format the date in the format like 17-Jan\n",
        "    mortgage_most_recent_date_formatted = pd.to_datetime(mortgage_most_recent_date).strftime('%d-%b')\n",
        "\n",
        "    # Print statement\n",
        "    print(\"Holdings of mortgage-backed securities were {} on {}, {} w/w and {} y/y\".format(mortgage_most_recent, mortgage_most_recent_date_formatted, mortgage_change_wk_formatted, mortgage_change_yr_formatted))"
      ]
    },
    {
      "cell_type": "code",
      "execution_count": 22,
      "metadata": {
        "id": "qh8Da0V3keTH"
      },
      "outputs": [],
      "source": [
        "def print_btfp_borrowing_report(data):\n",
        "    # Extract values for the specific report\n",
        "    btfp_most_recent = data.loc[data['Report'] == 'BTFP borrowing (week average)', 'Most Recent'].values[0]\n",
        "    btfp_change_wk = data.loc[data['Report'] == 'BTFP borrowing (week average)', 'Change (w/w)'].values[0]\n",
        "    btfp_prior_week = data.loc[data['Report'] == 'BTFP borrowing (week average)', 'Previous'].values[0]\n",
        "\n",
        "    # Add a plus sign for formatted values that don't start and end with parentheses\n",
        "    btfp_change_wk_formatted = \"+\" + btfp_change_wk if not (btfp_change_wk.startswith('(') and btfp_change_wk.endswith(')')) else btfp_change_wk\n",
        "\n",
        "    # Print statement\n",
        "    print(\"BTFP borrowing was {} vs {} in prior week.\".format(btfp_most_recent, btfp_prior_week))"
      ]
    },
    {
      "cell_type": "markdown",
      "metadata": {
        "id": "hIUSqCBHkUXi"
      },
      "source": [
        "# Print statements"
      ]
    },
    {
      "cell_type": "code",
      "execution_count": 23,
      "metadata": {
        "colab": {
          "base_uri": "https://localhost:8080/"
        },
        "id": "5YSBKLejZAbM",
        "outputId": "9655457b-a334-43bd-9db1-86a1b356f55e"
      },
      "outputs": [
        {
          "name": "stdout",
          "output_type": "stream",
          "text": [
            "Fed reports balance sheet assets of $7.72T on Wednesday, +$2.48B w/w and ($817.50B) y/y\n",
            "Holdings of US Treasury Securities were $4.74T on 17-Jan, ($9.00B) w/w and ($707.47B) y/y\n",
            "Holdings of mortgage-backed securities were $2.43T on 17-Jan, ($18.00M) w/w and ($209.23B) y/y\n",
            "BTFP borrowing was $154.16B vs $144.84B in prior week.\n"
          ]
        }
      ],
      "source": [
        "print_balance_sheet_report(data)\n",
        "print_treasury_securities_report(data)\n",
        "print_mortgage_backed_securities_report(data)\n",
        "print_btfp_borrowing_report(data)"
      ]
    }
  ],
  "metadata": {
    "colab": {
      "provenance": []
    },
    "kernelspec": {
      "display_name": "Python 3",
      "name": "python3"
    },
    "language_info": {
      "codemirror_mode": {
        "name": "ipython",
        "version": 3
      },
      "file_extension": ".py",
      "mimetype": "text/x-python",
      "name": "python",
      "nbconvert_exporter": "python",
      "pygments_lexer": "ipython3",
      "version": "3.8.8"
    }
  },
  "nbformat": 4,
  "nbformat_minor": 0
}
